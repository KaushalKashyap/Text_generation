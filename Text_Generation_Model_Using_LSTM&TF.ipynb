{
 "cells": [
  {
   "cell_type": "code",
   "execution_count": null,
   "id": "4613322e",
   "metadata": {},
   "outputs": [],
   "source": [
    "# Objective:The goal of this assignment is to use Python to design and implement a generative model for text data. \n",
    "# The model should be capable of generating new, creative, and grammatically correct sentences given an input prompt."
   ]
  },
  {
   "cell_type": "code",
   "execution_count": null,
   "id": "645e3ed9",
   "metadata": {},
   "outputs": [],
   "source": [
    "#importing Necessary Libraries\n",
    "import requests\n",
    "from bs4 import BeautifulSoup\n",
    "import nltk\n",
    "import re\n",
    "from nltk.tokenize import sent_tokenize, word_tokenize\n",
    "from nltk.corpus import stopwords\n",
    "from tensorflow.keras.models import Sequential\n",
    "from tensorflow.keras.layers import LSTM, Dense, Embedding\n",
    "from tensorflow.keras.preprocessing.sequence import pad_sequences\n",
    "from tensorflow.keras.preprocessing.text import Tokenizer\n",
    "from sklearn.model_selection import train_test_split\n",
    "import numpy as np"
   ]
  },
  {
   "cell_type": "code",
   "execution_count": null,
   "id": "203413b7",
   "metadata": {},
   "outputs": [],
   "source": [
    "# Loading the project Gutenberg data\n",
    "r = requests.get(r'https://www.gutenberg.org/cache/epub/64317/pg64317.txt')\n",
    "text_data = r.text"
   ]
  },
  {
   "cell_type": "code",
   "execution_count": null,
   "id": "5d512161",
   "metadata": {},
   "outputs": [],
   "source": [
    "# first, remove unwanted new line and tab characters from the text\n",
    "for char in [\"\\n\", \"\\r\", \"\\d\", \"\\t\"]:\n",
    "    text_data = text_data.replace(char, \" \")"
   ]
  },
  {
   "cell_type": "code",
   "execution_count": null,
   "id": "9546e680",
   "metadata": {},
   "outputs": [],
   "source": [
    "# (removing the project gutenburg introduction(0:1433)/footnotes(277912:--))\n",
    "text_data = text_data[1433:277912]\n",
    "print(text_data)"
   ]
  },
  {
   "cell_type": "code",
   "execution_count": null,
   "id": "5c3af447",
   "metadata": {},
   "outputs": [],
   "source": [
    "# lowercase the text\n",
    "text_data = text_data.lower()\n",
    "\n",
    "import re\n",
    "# remove punctuation from text\n",
    "text_data = re.sub(r\"[^\\w\\s]\", \"\", text_data)"
   ]
  },
  {
   "cell_type": "code",
   "execution_count": null,
   "id": "79a59ea1",
   "metadata": {},
   "outputs": [],
   "source": [
    "# import nltk\n",
    "# nltk.download()"
   ]
  },
  {
   "cell_type": "code",
   "execution_count": null,
   "id": "acc1c6a7",
   "metadata": {},
   "outputs": [],
   "source": [
    "# Step 2: Data Preprocessing\n",
    "sentences = sent_tokenize(text_data)  # Split text into sentences\n",
    "tokenizer = Tokenizer()\n",
    "tokenizer.fit_on_texts(sentences)\n",
    "total_words = len(tokenizer.word_index) + 1\n",
    "\n",
    "input_sequences = []\n",
    "for line in sentences:\n",
    "    token_list = tokenizer.texts_to_sequences([line])[0]\n",
    "    for i in range(1, len(token_list)):\n",
    "        n_gram_sequence = token_list[:i+1]\n",
    "        input_sequences.append(n_gram_sequence)\n",
    "\n",
    "max_sequence_len = max([len(x) for x in input_sequences])\n",
    "input_sequences = np.array(pad_sequences(input_sequences, maxlen=max_sequence_len, padding='pre'))\n",
    "\n",
    "predictors, label = input_sequences[:, :-1], input_sequences[:, -1]\n",
    "label = np.array(label)\n",
    "label = np.expand_dims(label, axis=1)\n",
    "predictors_train, predictors_test, label_train, label_test = train_test_split(predictors, label, test_size=0.2, random_state=42)"
   ]
  },
  {
   "cell_type": "code",
   "execution_count": null,
   "id": "eb3435d4",
   "metadata": {},
   "outputs": [],
   "source": [
    "# Step 3: Model Design and Training\n",
    "model = Sequential()\n",
    "model.add(Embedding(total_words, 100, input_length=max_sequence_len-1))\n",
    "model.add(LSTM(150))\n",
    "model.add(Dense(total_words, activation='softmax'))\n",
    "model.compile(loss='sparse_categorical_crossentropy', optimizer='adam')\n",
    "\n",
    "model.fit(predictors_train, label_train, epochs=50, verbose=1) "
   ]
  },
  {
   "cell_type": "code",
   "execution_count": null,
   "id": "74ed11d2",
   "metadata": {},
   "outputs": [],
   "source": [
    "# Step 4: Model Evaluation\n",
    "loss = model.evaluate(predictors_test, label_test, verbose=0)\n",
    "print(f\"Perplexity: {np.exp(loss):.2f}\")"
   ]
  },
  {
   "cell_type": "code",
   "execution_count": null,
   "id": "0eba58f6",
   "metadata": {},
   "outputs": [],
   "source": [
    "# Generate text given a seed sentence\n",
    "def generate_text(seed_text, next_words):\n",
    "    for _ in range(next_words):\n",
    "        token_list = tokenizer.texts_to_sequences([seed_text])[0]\n",
    "        token_list = pad_sequences([token_list], maxlen=max_sequence_len-1, padding='pre')\n",
    "        # predicted_probs = model.predict(token_list, verbose=0)\n",
    "        predicted_probs = model.predict(token_list)[0]\n",
    "        predicted_index = np.argmax(predicted_probs)\n",
    "        output_word = \"\"\n",
    "        for word, index in tokenizer.word_index.items():\n",
    "            if index == predicted_index:\n",
    "                output_word = word\n",
    "                break\n",
    "        seed_text += \" \" + output_word\n",
    "    return seed_text"
   ]
  },
  {
   "cell_type": "code",
   "execution_count": null,
   "id": "3196b713",
   "metadata": {},
   "outputs": [],
   "source": [
    "# Example text generation\n",
    "seed_sentence = \"The Great Gatsby\" # here is the prompt to prive seed input. and the length of sentence generation.\n",
    "generated_text = generate_text(seed_sentence, 100)\n",
    "print(f\"Generated Text: {generated_text}\")"
   ]
  },
  {
   "cell_type": "code",
   "execution_count": null,
   "id": "8544d08d",
   "metadata": {},
   "outputs": [],
   "source": []
  }
 ],
 "metadata": {
  "kernelspec": {
   "display_name": "Python 3 (ipykernel)",
   "language": "python",
   "name": "python3"
  },
  "language_info": {
   "codemirror_mode": {
    "name": "ipython",
    "version": 3
   },
   "file_extension": ".py",
   "mimetype": "text/x-python",
   "name": "python",
   "nbconvert_exporter": "python",
   "pygments_lexer": "ipython3",
   "version": "3.10.9"
  }
 },
 "nbformat": 4,
 "nbformat_minor": 5
}
